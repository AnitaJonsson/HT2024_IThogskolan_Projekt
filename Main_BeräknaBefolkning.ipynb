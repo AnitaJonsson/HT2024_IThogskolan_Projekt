{
 "cells": [
  {
   "cell_type": "code",
   "execution_count": 4,
   "id": "230b614c-5746-440e-804c-2d4065dd85ef",
   "metadata": {},
   "outputs": [
    {
     "ename": "NameError",
     "evalue": "name 'region_clustering' is not defined",
     "output_type": "error",
     "traceback": [
      "\u001b[1;31m---------------------------------------------------------------------------\u001b[0m",
      "\u001b[1;31mNameError\u001b[0m                                 Traceback (most recent call last)",
      "Cell \u001b[1;32mIn[4], line 12\u001b[0m\n\u001b[0;32m      8\u001b[0m \u001b[38;5;28;01mfrom\u001b[39;00m \u001b[38;5;21;01msklearn\u001b[39;00m\u001b[38;5;21;01m.\u001b[39;00m\u001b[38;5;21;01mpreprocessing\u001b[39;00m \u001b[38;5;28;01mimport\u001b[39;00m StandardScaler\n\u001b[0;32m     10\u001b[0m \u001b[38;5;28;01mfrom\u001b[39;00m \u001b[38;5;21;01mtest\u001b[39;00m \u001b[38;5;28;01mimport\u001b[39;00m \u001b[38;5;241m*\u001b[39m\n\u001b[1;32m---> 12\u001b[0m \u001b[43mregion_clustering\u001b[49m\n",
      "\u001b[1;31mNameError\u001b[0m: name 'region_clustering' is not defined"
     ]
    }
   ],
   "source": [
    "# Klustring med Scikit-learn\n",
    "\n",
    "import pandas as pd\n",
    "import numpy as np\n",
    "import matplotlib.pyplot as plt\n",
    "from sklearn.datasets import make_blobs\n",
    "from sklearn.cluster import KMeans\n",
    "from sklearn.preprocessing import StandardScaler\n",
    "\n",
    "from test import *\n",
    "\n",
    "region_clustering"
   ]
  },
  {
   "cell_type": "markdown",
   "id": "29387ea6-0583-4182-9fd0-8ec7fe8cbc42",
   "metadata": {},
   "source": [
    "===  SYFTE  === \n",
    "Förutse framtida antal invånare i Sveriges kommuner.\n",
    "\n",
    "För kommunerna i Sverige finns ett konstant behov av att övervaka och förutse anatalet kommuninvånare. Dels för kommunens intäkter (skatteintäkter) är beroende av hur antalet invånare men även för att välfärdstjänsterna som kommunerna förväntas tillhandahålla (skola, barnomsorg, vatten mm) behöver anpassas beroende på antalet invånare.\n",
    "\n",
    "TILLVÄGAGÅNGSSÄTT Jag tänkter med regressionsanalys förutse framtida antal invånare. \n",
    "Etikett (det önskade utfallet) är folkmängd 2023 och jag kommer att använda folkmängd 2018 att träna på.\n",
    "    \n",
    "Exempel på variabler: Medelålder Antal personer per hushåll,Antal hushåll Antal invånare fem år tidigare Antal invånare över 65 Nybyggande, huspriser, bostadsindex Födda Döda Inflyttade Utflyttade\n",
    "Om det finns utrymme hoppas jag även kunna göra en klassificering av kommunerna som jag sedan anger som variabel i regressionen. Exempel på variabler för en klassificering: Ökaning resp minskning historisk av antal invånare. Antal invånare Nybyggande, huspriser, bostadsindex Befolkningstätet\n",
    "\n",
    "DATA SCB tillhandahåller en stor del data. Datan är oftast komplett, inga null-värden, och samma enheter och konsekventa koder för kommmunerna. Viss data finns bara på tex länsnivå och där behöver jag finna ett sätt att koppla kommun till län. Det finns noteringeringa att enheter (geografiska enheter) har förändrats från ett år till ett annat och där behöver jag granska om det har stor påverkan och eventuellt kanske ta bort dessa ur urvalet.\n"
   ]
  },
  {
   "cell_type": "markdown",
   "id": "25e61843-1976-4dca-9b27-3e7056695d1f",
   "metadata": {},
   "source": [
    "===  DATA  ===\n",
    "\n",
    "Data hämtat från\n",
    "https://www.statistikdatabasen.scb.se/pxweb/sv/ssd/\n",
    "\n",
    "Problem att komma underfund hur man tar ut data och får den i ett format som fungera att läsa in.\n",
    "All data fanns i olika filer till att börja med använda jag annat system (QlikView) för att sammanställa de variabler som jag tyckte var av intresse för testa reggression."
   ]
  },
  {
   "attachments": {},
   "cell_type": "markdown",
   "id": "e8ff0626-2724-4006-adf3-79a0ed03017e",
   "metadata": {},
   "source": [
    "=== CORRELATION MATRIX ===\n"
   ]
  }
 ],
 "metadata": {
  "kernelspec": {
   "display_name": "Python 3 (ipykernel)",
   "language": "python",
   "name": "python3"
  },
  "language_info": {
   "codemirror_mode": {
    "name": "ipython",
    "version": 3
   },
   "file_extension": ".py",
   "mimetype": "text/x-python",
   "name": "python",
   "nbconvert_exporter": "python",
   "pygments_lexer": "ipython3",
   "version": "3.12.6"
  }
 },
 "nbformat": 4,
 "nbformat_minor": 5
}
