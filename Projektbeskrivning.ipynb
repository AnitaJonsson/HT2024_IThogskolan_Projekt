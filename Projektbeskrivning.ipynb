{
 "cells": [
  {
   "cell_type": "raw",
   "id": "8c73990f-11a0-4060-9fa6-9d9ba53d6a6b",
   "metadata": {},
   "source": [
    "===  SYFTE  - Förutse framtida antal invånare i Sveriges kommuner ===\n",
    "\n",
    "För kommunerna i Sverige finns ett konstant behov av att övervaka och förutse anatalet kommuninvånare. Dels för kommunens intäkter (skatteintäkter) är beroende av hur antalet invånare men även för att välfärdstjänsterna som kommunerna förväntas tillhandahålla (skola, barnomsorg, vatten mm) behöver anpassas beroende på antalet invånare.\n",
    "\n",
    "TILLVÄGAGÅNGSSÄTT Jag tänkter med regressionsanalys förutse framtida antal invånare. \n",
    "Etikett (det önskade utfallet) är folkmängd 2023 och jag kommer att använda folkmängd 2018 att träna på.\n",
    "    \n",
    "Exempel på variabler: Medelålder Antal personer per hushåll,Antal hushåll Antal invånare fem år tidigare Antal invånare över 65 Nybyggande, huspriser, bostadsindex Födda Döda Inflyttade Utflyttade\n",
    "Om det finns utrymme hoppas jag även kunna göra en klassificering av kommunerna som jag sedan anger som variabel i regressionen. Exempel på variabler för en klassificering: Ökaning resp minskning historisk av antal invånare. Antal invånare Nybyggande, huspriser, bostadsindex Befolkningstätet\n",
    "\n",
    "DATA SCB tillhandahåller en stor del data. Datan är oftast komplett, inga null-värden, och samma enheter och konsekventa koder för kommmunerna. Viss data finns bara på tex länsnivå och där behöver jag finna ett sätt att koppla kommun till län. Det finns noteringeringa att enheter (geografiska enheter) har förändrats från ett år till ett annat och där behöver jag granska om det har stor påverkan och eventuellt kanske ta bort dessa ur urvalet.\n"
   ]
  },
  {
   "cell_type": "code",
   "execution_count": null,
   "id": "578d5c5e-972f-42db-ba10-eeb0c1655130",
   "metadata": {},
   "outputs": [],
   "source": []
  },
  {
   "cell_type": "raw",
   "id": "9fc23423-a4f1-4570-b761-00500c1c7dd1",
   "metadata": {},
   "source": [
    "===  Version 1 ===\n",
    "\n",
    "--- DATAINHÄMTNING ---\n",
    "All data är hämtad från https://www.statistikdatabasen.scb.se/pxweb/sv/ssd/\n",
    "\n",
    "Tog tid att komma underfund hur man tar ut data och få den i ett format som fungera att läsa in. All data fanns i olika filer och en del siffror har ',' som decimaltecken. För att komma runt detta börjar jag med att sammanställa csv-filerna från SCB i ett BI verktyg (QlikView) och skapar en anpassad csv-fil med den data som jag vill testa, Sammanställning.csv.\n",
    "\n",
    "--- DATAKVALITET ---\n",
    "Data är enhetlig och konsekvent. Kommuner har enhetlig benämning/kodning och det finns inga nullvärden. Datan är också konsekvent över den tidsperiod som jag har hämtat ut data, 2013 - 2023\n",
    "\n",
    "--- FÖRSTA MODELLEN  ---\n",
    "I RegionEstimat_v1_noCluster.ipynb har jag läst in datan från Sammanställning.csv och gör en korrelationsmatis och en första regressions-modell och predikation.\n",
    "\n",
    "Resultat:\n",
    "Mean squared error: 246536.58013089723\n",
    "R2 score: 0.9997989479134742\n"
   ]
  },
  {
   "cell_type": "code",
   "execution_count": null,
   "id": "43ab118d-f5af-47c1-b696-43ab30fb6e0f",
   "metadata": {},
   "outputs": [],
   "source": []
  },
  {
   "cell_type": "raw",
   "id": "3724f654-0326-434a-bee7-feabbec457a0",
   "metadata": {},
   "source": [
    "===  Version 2 ===\n",
    "\n",
    "I andra versionen läser jag direkt från SCBs csv-filer och skapar nya beräknade mått inlästa kolumner dessa.\n",
    "    Flyttningsöverskott.csv\n",
    "    Folkmängd.csv\n",
    "    Födda.csv\n",
    "    Invandringsöverskott.csv\n",
    "    Invånare60plus.csv\n",
    "    InvånarePerKvKilometer.csv\n",
    "\n",
    "--- KLUSTERINGMODELL ---\n",
    "I RegionClustering.ipynb skapar jag kluser av de olika kommunerna beroende på senaste årens befolkningsförändring och deras storlek (antal invånare). Två textfiler skapas med respektive kluster för varje kommun. RegionClusteringLabeled_4.csv skapas fyra kluster och RegionClusteringLabeled.csv där antalet kluster är beräknat efter elbow-metoden.\n",
    "\n",
    "--- ANDRA MODELLEN  ---\n",
    "I andra modellen RegionEstimat_v2_Cluster.ipynb används filen från RegionClustering för att skapa en modell utifrån varje kluster. Jag har testat detta på kluster 0 där det finns med 60 kommuner (RegionClusteringLabeled.csv) . \n",
    "\n",
    "Resultat:\n",
    "Mean squared error: 322824.5696168077\n",
    "R2 score: 0.9981365796255381\n",
    "\n",
    "Tyvärr blir totalmåtten inte bättre men jag upplever ändå att på de två kommuner som jag testat på får jag mer \"rätt\" resultat\n"
   ]
  },
  {
   "cell_type": "code",
   "execution_count": null,
   "id": "56113abb-8814-476f-b2f9-5a1c42a39449",
   "metadata": {},
   "outputs": [],
   "source": []
  },
  {
   "cell_type": "raw",
   "id": "6834c912-e290-4451-8cf8-32cce4764508",
   "metadata": {},
   "source": [
    "=== Slutsatser ===\n",
    "\n",
    "Det finns många parametrar att \"tweeka\" på. \n",
    "Borde klusterna skapas utan storlek på kommunen och endast på befolkningsförändring?\n",
    "Borde befolkningsförändring motsvaras av ett värde 2013-2019?\n",
    "Borde alla tal vara relativa mot befolkning?\n",
    "\n"
   ]
  }
 ],
 "metadata": {
  "kernelspec": {
   "display_name": "Python 3 (ipykernel)",
   "language": "python",
   "name": "python3"
  },
  "language_info": {
   "codemirror_mode": {
    "name": "ipython",
    "version": 3
   },
   "file_extension": ".py",
   "mimetype": "text/x-python",
   "name": "python",
   "nbconvert_exporter": "python",
   "pygments_lexer": "ipython3",
   "version": "3.12.6"
  }
 },
 "nbformat": 4,
 "nbformat_minor": 5
}
